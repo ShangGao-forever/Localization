{
 "cells": [
  {
   "cell_type": "code",
   "execution_count": 1,
   "id": "c025ce12",
   "metadata": {},
   "outputs": [],
   "source": [
    "import pandas as pd\n",
    "import numpy as np"
   ]
  },
  {
   "cell_type": "code",
   "execution_count": 3,
   "id": "da14cfc1",
   "metadata": {},
   "outputs": [],
   "source": [
    "df3_h=pd.read_csv('./SleepData_c3_Health.csv')\n",
    "df3_osa=pd.read_csv('./SleepData_c3_osa_snoring.csv')\n",
    "df4_h=pd.read_csv('./SleepData_c4_Health.csv')\n",
    "df4_osa=pd.read_csv('./SleepData_c4_osa_snoring.csv')"
   ]
  },
  {
   "cell_type": "code",
   "execution_count": 49,
   "id": "bb2b87c6",
   "metadata": {},
   "outputs": [],
   "source": [
    "#使用时间序列最后一行填充\n",
    "def padding(dataframe):\n",
    "    uni_values=pd.unique(dataframe[\"Subject\"])\n",
    "    sequences=np.array([\"Subject\",\"MD\",\"MaxD\",\"DFS\",\"CC\",\"L0\",\"L1\"])\n",
    "    sequences=sequences.reshape(1,7)\n",
    "  #df_ 代表筛选出的有用列\n",
    "    df=dataframe[[\"Subject\",\"MD\",\"MaxD\",\"DFS\",\"CC\",\"L0\",\"L1\"]]\n",
    "    for uni in uni_values:\n",
    "        array=df[df['Subject'] == uni].values\n",
    "        last_row=array[-1].copy()\n",
    "        paddings=np.tile(last_row,(423-len(array),1))\n",
    "        after_padding=np.concatenate((array,paddings),axis=0)\n",
    "\n",
    "        sequences=np.concatenate((sequences,after_padding),axis=0)\n",
    "    \n",
    "    dataset=np.delete(sequences, 0, axis=1)\n",
    "    dataset=np.delete(dataset, 0, axis=0)\n",
    "\n",
    "    return dataset"
   ]
  },
  {
   "cell_type": "code",
   "execution_count": 37,
   "id": "c46e7df4",
   "metadata": {},
   "outputs": [],
   "source": [
    "# uni_values=pd.unique(df3_h[\"Subject\"])\n",
    "# sequences=np.array([0,0,0,0,0,0,0])\n",
    "# df=df3_h[[\"Subject\",\"MD\",\"MaxD\",\"DFS\",\"CC\",\"L0\",\"L1\"]]\n",
    "# sequences=sequences.reshape(1,7)\n",
    "# for uni in uni_values:\n",
    "#     array=df[df['Subject'] == uni].values\n",
    "#     last_row=array[-1].copy()\n",
    "#     paddings=np.tile(last_row,(423-len(array),1))\n",
    "#     after_padding=np.concatenate((array,paddings),axis=0)\n",
    "#     #print(after_padding.shape)\n",
    "#     #print(sequences.shape)\n",
    "#     sequences=np.concatenate((sequences,after_padding),axis=0)\n",
    "#     #print(array)\n",
    "\n",
    "    "
   ]
  },
  {
   "cell_type": "code",
   "execution_count": 50,
   "id": "f5ae212d",
   "metadata": {},
   "outputs": [],
   "source": [
    "sequences1=padding(df3_h)"
   ]
  },
  {
   "cell_type": "code",
   "execution_count": 51,
   "id": "a9538a79",
   "metadata": {},
   "outputs": [
    {
     "data": {
      "text/plain": [
       "(4230, 6)"
      ]
     },
     "execution_count": 51,
     "metadata": {},
     "output_type": "execute_result"
    }
   ],
   "source": []
  },
  {
   "cell_type": "code",
   "execution_count": null,
   "id": "941d4a70",
   "metadata": {},
   "outputs": [],
   "source": []
  }
 ],
 "metadata": {
  "kernelspec": {
   "display_name": "Python 3",
   "language": "python",
   "name": "python3"
  },
  "language_info": {
   "codemirror_mode": {
    "name": "ipython",
    "version": 3
   },
   "file_extension": ".py",
   "mimetype": "text/x-python",
   "name": "python",
   "nbconvert_exporter": "python",
   "pygments_lexer": "ipython3",
   "version": "3.8.8"
  }
 },
 "nbformat": 4,
 "nbformat_minor": 5
}
